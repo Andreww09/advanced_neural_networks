{
 "cells": [
  {
   "cell_type": "code",
   "execution_count": null,
   "metadata": {
    "_cell_guid": "a800a7f1-cc0a-41ef-bb04-9f5cd399be32",
    "_uuid": "cc44951c-4ff9-40e3-b888-5885799bca7c",
    "collapsed": false,
    "execution": {
     "iopub.execute_input": "2025-01-06T21:23:48.387788Z",
     "iopub.status.busy": "2025-01-06T21:23:48.387448Z",
     "iopub.status.idle": "2025-01-06T21:23:55.559857Z",
     "shell.execute_reply": "2025-01-06T21:23:55.559159Z",
     "shell.execute_reply.started": "2025-01-06T21:23:48.387760Z"
    },
    "jupyter": {
     "outputs_hidden": false
    },
    "trusted": true
   },
   "outputs": [],
   "source": [
    "import os\n",
    "import timm\n",
    "\n",
    "import torch\n",
    "import cv2 as cv\n",
    "from torch import nn, Tensor, GradScaler, optim\n",
    "import torch.nn.functional as F\n",
    "from torch.utils.data import Dataset, DataLoader, ConcatDataset\n",
    "from torch.backends import cudnn\n",
    "from torch.optim.lr_scheduler import StepLR, ReduceLROnPlateau, CosineAnnealingLR, CosineAnnealingWarmRestarts\n",
    "\n",
    "import torchvision.transforms as transforms\n",
    "from torchvision.transforms import v2\n",
    "from torchvision.datasets import CIFAR100\n",
    "from torchvision import models\n",
    "\n",
    "import matplotlib.pyplot as plt\n",
    "import pandas as pd\n",
    "from tqdm import tqdm\n",
    "import numpy as np\n",
    "from PIL import Image\n",
    "from typing import Optional, Callable"
   ]
  },
  {
   "cell_type": "code",
   "execution_count": null,
   "metadata": {
    "_cell_guid": "7141548b-2297-4271-9b13-3fcf174fc9a0",
    "_uuid": "4fd02db6-82a7-4d6f-ad27-d9eb644c04c7",
    "collapsed": false,
    "execution": {
     "iopub.execute_input": "2025-01-06T21:23:57.404315Z",
     "iopub.status.busy": "2025-01-06T21:23:57.403860Z",
     "iopub.status.idle": "2025-01-06T21:23:57.408605Z",
     "shell.execute_reply": "2025-01-06T21:23:57.407668Z",
     "shell.execute_reply.started": "2025-01-06T21:23:57.404288Z"
    },
    "jupyter": {
     "outputs_hidden": false
    },
    "trusted": true
   },
   "outputs": [],
   "source": [
    "device = torch.device('cuda')\n",
    "cudnn.benchmark = True\n",
    "pin_memory = True\n",
    "enable_half = True  # Disable for CPU, it is slower!\n",
    "scaler = GradScaler(device, enabled=enable_half)"
   ]
  },
  {
   "cell_type": "code",
   "execution_count": null,
   "metadata": {
    "_cell_guid": "96978f08-da4a-4513-ac13-88936a1a9478",
    "_uuid": "1fb6b95e-d817-45a2-a0f8-fad6b07bcbd6",
    "collapsed": false,
    "execution": {
     "iopub.execute_input": "2025-01-06T21:23:58.839446Z",
     "iopub.status.busy": "2025-01-06T21:23:58.839126Z",
     "iopub.status.idle": "2025-01-06T21:23:58.844738Z",
     "shell.execute_reply": "2025-01-06T21:23:58.843904Z",
     "shell.execute_reply.started": "2025-01-06T21:23:58.839418Z"
    },
    "jupyter": {
     "outputs_hidden": false
    },
    "trusted": true
   },
   "outputs": [],
   "source": [
    "class SimpleCachedDataset(Dataset):\n",
    "    def __init__(self, dataset: Dataset, runtime_transforms: Optional[v2.Transform], cache: bool):\n",
    "        if cache:\n",
    "            dataset = tuple([x for x in dataset])\n",
    "        self.dataset = dataset\n",
    "        self.runtime_transforms = runtime_transforms\n",
    "\n",
    "    def __len__(self):\n",
    "        return len(self.dataset)\n",
    "\n",
    "    def __getitem__(self, i):\n",
    "        image, label = self.dataset[i]\n",
    "        if self.runtime_transforms is None:\n",
    "            return image, label\n",
    "        return self.runtime_transforms(image), label"
   ]
  },
  {
   "cell_type": "code",
   "execution_count": null,
   "metadata": {
    "_cell_guid": "2b18922e-ca2d-4665-8a29-efe709b31e78",
    "_uuid": "a1f97402-d486-4171-b459-21ffef12dd9b",
    "collapsed": false,
    "execution": {
     "iopub.execute_input": "2025-01-06T21:24:00.620085Z",
     "iopub.status.busy": "2025-01-06T21:24:00.619808Z",
     "iopub.status.idle": "2025-01-06T21:24:00.626291Z",
     "shell.execute_reply": "2025-01-06T21:24:00.625413Z",
     "shell.execute_reply.started": "2025-01-06T21:24:00.620064Z"
    },
    "jupyter": {
     "outputs_hidden": false
    },
    "trusted": true
   },
   "outputs": [],
   "source": [
    "class CIFAR100_noisy_fine(Dataset):\n",
    "    \"\"\"\n",
    "    See https://github.com/UCSC-REAL/cifar-10-100n, https://www.noisylabels.com/ and `Learning with Noisy Labels\n",
    "    Revisited: A Study Using Real-World Human Annotations`.\n",
    "    \"\"\"\n",
    "\n",
    "    def __init__(\n",
    "        self, root: str, train: bool, transform: Optional[Callable], download: bool\n",
    "    ):\n",
    "        cifar100 = CIFAR100(\n",
    "            root=root, train=train, transform=transform, download=download\n",
    "        )\n",
    "        data, targets = tuple(zip(*cifar100))\n",
    "        self.train = train\n",
    "\n",
    "        if train:\n",
    "            noisy_label_file = os.path.join(root, \"CIFAR-100-noisy.npz\")\n",
    "            if not os.path.isfile(noisy_label_file):\n",
    "                raise FileNotFoundError(\n",
    "                    f\"{type(self).__name__} need {noisy_label_file} to be used!\"\n",
    "                )\n",
    "\n",
    "            noise_file = np.load(noisy_label_file)\n",
    "            if not np.array_equal(noise_file[\"clean_label\"], targets):\n",
    "                raise RuntimeError(\"Clean labels do not match!\")\n",
    "            targets = noise_file[\"noisy_label\"]\n",
    "\n",
    "        self.data = data\n",
    "        self.targets = targets\n",
    "\n",
    "    def __len__(self):\n",
    "        return len(self.targets)\n",
    "\n",
    "    def __getitem__(self, i: int):\n",
    "        img, target = self.data[i], self.targets[i]\n",
    "        return img, target"
   ]
  },
  {
   "cell_type": "code",
   "execution_count": null,
   "metadata": {
    "execution": {
     "iopub.execute_input": "2025-01-06T21:24:03.109881Z",
     "iopub.status.busy": "2025-01-06T21:24:03.109544Z",
     "iopub.status.idle": "2025-01-06T21:24:09.782822Z",
     "shell.execute_reply": "2025-01-06T21:24:09.782122Z",
     "shell.execute_reply.started": "2025-01-06T21:24:03.109854Z"
    },
    "trusted": true
   },
   "outputs": [],
   "source": [
    "mean=(0.507, 0.4865, 0.4409)\n",
    "sd=(0.2673, 0.2564, 0.2761)\n",
    "\n",
    "common_transforms = [\n",
    "    transforms.ToTensor(),\n",
    "    transforms.Normalize(mean, sd, inplace=True)\n",
    "]\n",
    "\n",
    "runtime_transforms = transforms.Compose([\n",
    "    transforms.RandomCrop(size=32, padding=4),\n",
    "    transforms.RandomHorizontalFlip(p=0.5),\n",
    "    transforms.RandAugment(num_ops=2, magnitude=10),  # Stronger augmentations\n",
    "    transforms.ColorJitter(brightness=0.4, contrast=0.4, saturation=0.4, hue=0.1),\n",
    "    transforms.ToTensor(),\n",
    "    transforms.Normalize(mean, sd, inplace=True),\n",
    "    transforms.RandomErasing(p=0.25, scale=(0.02, 0.1), ratio=(0.3, 3.3))  # Random Erasing to simulate occlusions\n",
    "])\n",
    "\n",
    "test_transform = transforms.Compose([\n",
    "     *common_transforms\n",
    "])\n",
    "\n",
    "base_train_set = CIFAR100_noisy_fine('/kaggle/input/fii-atnn-2024-project-noisy-cifar-100/fii-atnn-2024-project-noisy-cifar-100', download=False, train=True, transform=None)\n",
    "base_test_set = CIFAR100_noisy_fine('/kaggle/input/fii-atnn-2024-project-noisy-cifar-100/fii-atnn-2024-project-noisy-cifar-100', download=False, train=False, transform=test_transform)\n",
    "\n",
    "images = base_train_set.data\n",
    "labels = base_train_set.targets"
   ]
  },
  {
   "cell_type": "code",
   "execution_count": null,
   "metadata": {
    "_cell_guid": "08ef982e-3ba8-49a6-9028-dda306ffc9a0",
    "_uuid": "4159a257-164a-4944-912c-4e25cb6fbcd4",
    "collapsed": false,
    "execution": {
     "iopub.execute_input": "2025-01-06T21:24:11.836783Z",
     "iopub.status.busy": "2025-01-06T21:24:11.836482Z",
     "iopub.status.idle": "2025-01-06T21:24:11.870137Z",
     "shell.execute_reply": "2025-01-06T21:24:11.869155Z",
     "shell.execute_reply.started": "2025-01-06T21:24:11.836760Z"
    },
    "jupyter": {
     "outputs_hidden": false
    },
    "trusted": true
   },
   "outputs": [],
   "source": [
    "train_set = SimpleCachedDataset(base_train_set, runtime_transforms, True)\n",
    "test_set = SimpleCachedDataset(base_test_set, None, True)\n",
    "\n",
    "train_loader = DataLoader(train_set, batch_size=128, shuffle=True, pin_memory=pin_memory)\n",
    "test_loader = DataLoader(test_set, batch_size=500, pin_memory=pin_memory)"
   ]
  },
  {
   "cell_type": "code",
   "execution_count": null,
   "metadata": {
    "_cell_guid": "6c2d5889-76fc-44b9-9a3a-4ee1e12e091c",
    "_uuid": "a3a18386-94eb-47d7-aeac-ba43f265e9cd",
    "collapsed": false,
    "execution": {
     "iopub.execute_input": "2025-01-06T21:24:49.185798Z",
     "iopub.status.busy": "2025-01-06T21:24:49.185486Z",
     "iopub.status.idle": "2025-01-06T21:24:49.190428Z",
     "shell.execute_reply": "2025-01-06T21:24:49.189518Z",
     "shell.execute_reply.started": "2025-01-06T21:24:49.185774Z"
    },
    "jupyter": {
     "outputs_hidden": false
    },
    "trusted": true
   },
   "outputs": [],
   "source": [
    "def getPretrainedResnet18(pretrained=True, out_classes=10, change_conv1=True):\n",
    "    model = models.resnet18(pretrained=pretrained)\n",
    "    if change_conv1:\n",
    "        #model.conv1 = nn.Conv2d(3, 64, kernel_size=(5, 5), stride=(1, 1), padding=(2, 2), bias=False)\n",
    "        model.conv1 = nn.Conv2d(3, 64, kernel_size=(3, 3), stride=(1, 1), padding=(1, 1), bias=False)\n",
    "        model.maxpool = nn.Identity()\n",
    "    num_features = model.fc.in_features\n",
    "    model.fc = nn.Linear(num_features, out_classes)\n",
    "    return model"
   ]
  },
  {
   "cell_type": "code",
   "execution_count": null,
   "metadata": {
    "_cell_guid": "8b3b5f57-f9c3-417b-b339-ef6b62485223",
    "_uuid": "3e6bc301-d882-4e25-8c45-05231dfcc72d",
    "collapsed": false,
    "execution": {
     "iopub.execute_input": "2025-01-06T21:24:51.290884Z",
     "iopub.status.busy": "2025-01-06T21:24:51.290524Z",
     "iopub.status.idle": "2025-01-06T21:24:52.211060Z",
     "shell.execute_reply": "2025-01-06T21:24:52.210136Z",
     "shell.execute_reply.started": "2025-01-06T21:24:51.290856Z"
    },
    "jupyter": {
     "outputs_hidden": false
    },
    "trusted": true
   },
   "outputs": [],
   "source": [
    "class VGG16(nn.Module):\n",
    "    def __init__(self, num_classes=100):\n",
    "        super(VGG16, self).__init__()\n",
    "        self.layers = nn.Sequential(\n",
    "            # Block 1\n",
    "            nn.Conv2d(3, 64, kernel_size=3, stride=1, padding=1),\n",
    "            nn.BatchNorm2d(64),\n",
    "            nn.ReLU(),\n",
    "            nn.Conv2d(64, 64, kernel_size=3, stride=1, padding=1),\n",
    "            nn.BatchNorm2d(64),\n",
    "            nn.ReLU(), \n",
    "            nn.MaxPool2d(kernel_size = 2, stride = 2),\n",
    "\n",
    "            # Block 2\n",
    "            nn.Conv2d(64, 128, kernel_size=3, stride=1, padding=1),\n",
    "            nn.BatchNorm2d(128),\n",
    "            nn.ReLU(),\n",
    "            nn.Conv2d(128, 128, kernel_size=3, stride=1, padding=1),\n",
    "            nn.BatchNorm2d(128),\n",
    "            nn.ReLU(),\n",
    "            nn.MaxPool2d(kernel_size = 2, stride = 2),\n",
    "\n",
    "            # Block 3\n",
    "            nn.Conv2d(128, 256, kernel_size=3, stride=1, padding=1),\n",
    "            nn.BatchNorm2d(256),\n",
    "            nn.ReLU(),\n",
    "            nn.Conv2d(256, 256, kernel_size=3, stride=1, padding=1),\n",
    "            nn.BatchNorm2d(256),\n",
    "            nn.ReLU(),\n",
    "            nn.Conv2d(256, 256, kernel_size=3, stride=1, padding=1),\n",
    "            nn.BatchNorm2d(256),\n",
    "            nn.ReLU(),\n",
    "            nn.MaxPool2d(kernel_size = 2, stride = 2),\n",
    "\n",
    "            # Block 4\n",
    "            nn.Conv2d(256, 512, kernel_size=3, stride=1, padding=1),\n",
    "            nn.BatchNorm2d(512),\n",
    "            nn.ReLU(),\n",
    "            nn.Conv2d(512, 512, kernel_size=3, stride=1, padding=1),\n",
    "            nn.BatchNorm2d(512),\n",
    "            nn.ReLU(),\n",
    "            nn.Conv2d(512, 512, kernel_size=3, stride=1, padding=1),\n",
    "            nn.BatchNorm2d(512),\n",
    "            nn.ReLU(),\n",
    "            nn.MaxPool2d(kernel_size = 2, stride = 2),\n",
    "\n",
    "            # Block 5\n",
    "            nn.Conv2d(512, 512, kernel_size=3, stride=1, padding=1),\n",
    "            nn.BatchNorm2d(512),\n",
    "            nn.ReLU(),\n",
    "            nn.Conv2d(512, 512, kernel_size=3, stride=1, padding=1),\n",
    "            nn.BatchNorm2d(512),\n",
    "            nn.ReLU(),\n",
    "            nn.Conv2d(512, 512, kernel_size=3, stride=1, padding=1),\n",
    "            nn.BatchNorm2d(512),\n",
    "            nn.ReLU(),\n",
    "            nn.MaxPool2d(kernel_size=2, stride=2),\n",
    "\n",
    "            # Classifier\n",
    "            nn.Flatten(),\n",
    "            nn.Linear(512, 4096),  # Adjust for CIFAR-100 input size\n",
    "            nn.ReLU(inplace=True),\n",
    "            nn.Dropout(0.5),\n",
    "            nn.Linear(4096, 4096),\n",
    "            nn.ReLU(inplace=True),\n",
    "            nn.Dropout(0.5),\n",
    "            nn.Linear(4096, num_classes)\n",
    "        )\n",
    "\n",
    "    def forward(self, x: Tensor) -> Tensor:\n",
    "        return self.layers(x)\n",
    "\n",
    "\n",
    "model = getPretrainedResnet18(pretrained=True, out_classes=100, change_conv1=True).to(device)\n",
    "model = torch.jit.script(model)\n",
    "criterion = nn.CrossEntropyLoss(label_smoothing=0.1)\n",
    "\n",
    "#optimizer = optim.AdamW(model.parameters(), lr=0.001, weight_decay=1e-4)\n",
    "#optimizer = optim.SGD(model.parameters(), lr = 0.005, momentum = 0.9, weight_decay=0.0005, nesterov=True)\n",
    "optimizer = optim.SGD(\n",
    "    model.parameters(), \n",
    "    lr=0.01,\n",
    "    momentum=0.9,\n",
    "    weight_decay=5e-4,\n",
    "    nesterov=True,\n",
    "    fused=True\n",
    ")\n",
    "\n",
    "#scheduler = StepLR(optimizer, step_size=10, gamma=0.1)\n",
    "scheduler = torch.optim.lr_scheduler.CosineAnnealingLR(optimizer, T_max=500)\n",
    "#scheduler = ReduceLROnPlateau(optimizer, mode='min', factor=0.5, patience=5)"
   ]
  },
  {
   "cell_type": "code",
   "execution_count": null,
   "metadata": {
    "_cell_guid": "06d28e2e-d7c4-480d-a0d7-311543ebe01f",
    "_uuid": "490a8432-db9e-4cc2-88f4-1d32c5c9991b",
    "collapsed": false,
    "execution": {
     "iopub.execute_input": "2025-01-06T21:24:55.270425Z",
     "iopub.status.busy": "2025-01-06T21:24:55.270123Z",
     "iopub.status.idle": "2025-01-06T21:24:55.283099Z",
     "shell.execute_reply": "2025-01-06T21:24:55.282170Z",
     "shell.execute_reply.started": "2025-01-06T21:24:55.270401Z"
    },
    "jupyter": {
     "outputs_hidden": false
    },
    "trusted": true
   },
   "outputs": [],
   "source": [
    "cutmix = v2.CutMix(num_classes=100)\n",
    "mixup = v2.MixUp(num_classes=100)\n",
    "cutmix_or_mixup = v2.RandomChoice([cutmix, mixup])\n",
    "\n",
    "def train():\n",
    "    model.train()\n",
    "    correct = 0\n",
    "    total = 0\n",
    "    train_loss = 0.0\n",
    "    \n",
    "    for inputs, targets in train_loader:\n",
    "        inputs, targets = inputs.to(device, non_blocking=True), targets.to(device, non_blocking=True)\n",
    "\n",
    "        # Apply CutMix to the batch\n",
    "        inputs, targets = cutmix_or_mixup(inputs, targets)\n",
    "        \n",
    "        with torch.autocast(device.type, enabled=enable_half):\n",
    "            outputs = model(inputs)\n",
    "            loss = criterion(outputs, targets)\n",
    "        \n",
    "        scaler.scale(loss).backward()\n",
    "        scaler.step(optimizer)\n",
    "        scaler.update()\n",
    "        optimizer.zero_grad()\n",
    "\n",
    "        train_loss += loss.item()\n",
    "        predicted = outputs.argmax(1)\n",
    "        total += targets.size(0)\n",
    "        correct += predicted.eq(targets.argmax(dim=1)).sum().item()\n",
    "\n",
    "    return 100.0 * correct / total"
   ]
  },
  {
   "cell_type": "code",
   "execution_count": null,
   "metadata": {
    "_cell_guid": "ac35bc3e-e712-4acf-b4d7-a86801a88835",
    "_uuid": "74f8028f-7620-4df1-95de-4c6de8850228",
    "collapsed": false,
    "execution": {
     "iopub.execute_input": "2025-01-06T21:24:58.193036Z",
     "iopub.status.busy": "2025-01-06T21:24:58.192747Z",
     "iopub.status.idle": "2025-01-06T21:24:58.198373Z",
     "shell.execute_reply": "2025-01-06T21:24:58.197613Z",
     "shell.execute_reply.started": "2025-01-06T21:24:58.193016Z"
    },
    "jupyter": {
     "outputs_hidden": false
    },
    "trusted": true
   },
   "outputs": [],
   "source": [
    "@torch.inference_mode()\n",
    "def val():\n",
    "    model.eval()\n",
    "    correct = 0\n",
    "    total = 0\n",
    "    val_loss = 0.0\n",
    "\n",
    "    for inputs, targets in test_loader:\n",
    "        inputs, targets = inputs.to(device, non_blocking=True), targets.to(device, non_blocking=True)\n",
    "        with torch.autocast(device.type, enabled=enable_half):\n",
    "            outputs = model(inputs)\n",
    "            loss = criterion(outputs, targets)\n",
    "\n",
    "        val_loss += loss.item()\n",
    "        predicted = outputs.argmax(1)\n",
    "        total += targets.size(0)\n",
    "        correct += predicted.eq(targets).sum().item()\n",
    "\n",
    "    avg_val_loss = val_loss / len(test_loader)\n",
    "    val_acc = 100.0 * correct / total\n",
    "\n",
    "    return avg_val_loss, val_acc"
   ]
  },
  {
   "cell_type": "code",
   "execution_count": null,
   "metadata": {
    "_cell_guid": "e28c1714-468d-4d8b-bc23-5aeb94a5e7c1",
    "_uuid": "d073187f-cbd0-4e14-a5d2-7ea94125ab76",
    "collapsed": false,
    "execution": {
     "iopub.execute_input": "2025-01-06T21:25:00.242027Z",
     "iopub.status.busy": "2025-01-06T21:25:00.241756Z",
     "iopub.status.idle": "2025-01-06T21:25:00.246862Z",
     "shell.execute_reply": "2025-01-06T21:25:00.245996Z",
     "shell.execute_reply.started": "2025-01-06T21:25:00.242007Z"
    },
    "jupyter": {
     "outputs_hidden": false
    },
    "trusted": true
   },
   "outputs": [],
   "source": [
    "@torch.inference_mode()\n",
    "def inference(model):\n",
    "    model.eval()\n",
    "    \n",
    "    labels = []\n",
    "    \n",
    "    for inputs, _ in test_loader:\n",
    "        inputs = inputs.to(device, non_blocking=True)\n",
    "        with torch.autocast(device.type, enabled=enable_half):\n",
    "            outputs = model(inputs)\n",
    "\n",
    "        predicted = outputs.argmax(1).tolist()\n",
    "        labels.extend(predicted)\n",
    "    \n",
    "    return labels"
   ]
  },
  {
   "cell_type": "code",
   "execution_count": null,
   "metadata": {
    "_cell_guid": "7b80ca71-a7a0-49b0-94b5-ef51ad12f4d1",
    "_uuid": "c9ed4e92-6980-4d44-bb21-1300f9f66d11",
    "execution": {
     "iopub.execute_input": "2025-01-06T21:25:02.684158Z",
     "iopub.status.busy": "2025-01-06T21:25:02.683882Z",
     "iopub.status.idle": "2025-01-06T22:59:49.607744Z",
     "shell.execute_reply": "2025-01-06T22:59:49.606491Z",
     "shell.execute_reply.started": "2025-01-06T21:25:02.684137Z"
    },
    "trusted": true
   },
   "outputs": [],
   "source": [
    "best = 0.0\n",
    "best_epoch = 0\n",
    "epochs = list(range(500))\n",
    "best_checkpoint_path = \"/kaggle/working/checkpoint.pth\"\n",
    "\n",
    "with tqdm(epochs) as tbar:\n",
    "    for epoch in tbar:\n",
    "        train_acc = train()\n",
    "        val_loss, val_acc = val()\n",
    "\n",
    "        scheduler.step(val_loss)\n",
    "\n",
    "        if val_acc > best:\n",
    "            best = val_acc\n",
    "            best_epoch = epoch\n",
    "\n",
    "            best_checkpoint = {\n",
    "                'model_state_dict': model.state_dict(),\n",
    "            }\n",
    "            torch.save(best_checkpoint, best_checkpoint_path)\n",
    "        \n",
    "        tbar.set_description(f\"Train: {train_acc:.2f}, Val Acc: {val_acc:.2f}, Val Loss: {val_loss:.4f}, Best: {best:.2f} at epoch {best_epoch}\")"
   ]
  },
  {
   "cell_type": "code",
   "execution_count": null,
   "metadata": {
    "_cell_guid": "8e605839-8f01-4026-9ef8-124d17ff406b",
    "_uuid": "198c9f00-e543-44bf-aab5-ee953190fcc7",
    "collapsed": false,
    "execution": {
     "iopub.execute_input": "2025-01-06T23:00:55.373809Z",
     "iopub.status.busy": "2025-01-06T23:00:55.373490Z",
     "iopub.status.idle": "2025-01-06T23:00:56.747081Z",
     "shell.execute_reply": "2025-01-06T23:00:56.746444Z",
     "shell.execute_reply.started": "2025-01-06T23:00:55.373781Z"
    },
    "jupyter": {
     "outputs_hidden": false
    },
    "trusted": true
   },
   "outputs": [],
   "source": [
    "best_model = getPretrainedResnet18(pretrained=True, out_classes=100, change_conv1=True).to(device)\n",
    "checkpoint = torch.load(best_checkpoint_path)\n",
    "best_model.load_state_dict(checkpoint[\"model_state_dict\"])\n",
    "\n",
    "data = {\n",
    "    \"ID\": [],\n",
    "    \"target\": []\n",
    "}\n",
    "\n",
    "for i, label in enumerate(inference(best_model)):\n",
    "    data[\"ID\"].append(i)\n",
    "    data[\"target\"].append(label)\n",
    "\n",
    "df = pd.DataFrame(data)\n",
    "df.to_csv(\"/kaggle/working/submission.csv\", index=False)"
   ]
  }
 ],
 "metadata": {
  "kaggle": {
   "accelerator": "gpu",
   "dataSources": [
    {
     "databundleVersionId": 10228459,
     "sourceId": 89041,
     "sourceType": "competition"
    }
   ],
   "isGpuEnabled": true,
   "isInternetEnabled": true,
   "language": "python",
   "sourceType": "notebook"
  },
  "kernelspec": {
   "display_name": "Python 3",
   "language": "python",
   "name": "python3"
  },
  "language_info": {
   "codemirror_mode": {
    "name": "ipython",
    "version": 3
   },
   "file_extension": ".py",
   "mimetype": "text/x-python",
   "name": "python",
   "nbconvert_exporter": "python",
   "pygments_lexer": "ipython3",
   "version": "3.10.12"
  }
 },
 "nbformat": 4,
 "nbformat_minor": 4
}
